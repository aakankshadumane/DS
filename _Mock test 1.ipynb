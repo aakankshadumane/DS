{
 "cells": [
  {
   "cell_type": "code",
   "execution_count": 12,
   "id": "1a2538d5",
   "metadata": {},
   "outputs": [],
   "source": [
    "# Write a function that takes a list of numbers as input and returns a new list containing \n",
    "# only the even numbers from the input list. Use list comprehension to solve this problem.\n",
    "\n",
    "def even(num : list):\n",
    "    l = [i for  i in num if i %2==0]\n",
    "    return l"
   ]
  },
  {
   "cell_type": "code",
   "execution_count": 13,
   "id": "8e501522",
   "metadata": {},
   "outputs": [
    {
     "data": {
      "text/plain": [
       "[2, 4, 6]"
      ]
     },
     "execution_count": 13,
     "metadata": {},
     "output_type": "execute_result"
    }
   ],
   "source": [
    "even([1,2,4,6])"
   ]
  },
  {
   "cell_type": "code",
   "execution_count": 15,
   "id": "f2cd993b",
   "metadata": {},
   "outputs": [],
   "source": [
    "# Implement a decorator function called ‘timer’ that measures the execution time of a function. \n",
    "# The ‘timer’ decorator should print the time taken by the decorated function to execute. \n",
    "# Use the ‘time’ module in Python to calculate the execution time.\n",
    "\n",
    "import time\n",
    "\n",
    "def timer(func):\n",
    "    def time_calculate(): \n",
    "        start = time.time()\n",
    "        func()\n",
    "        end = time.time()\n",
    "        print(end-start)\n",
    "    return time_calculate\n",
    "\n",
    "@timer\n",
    "def my_function():\n",
    "    # Function code goes here\n",
    "    time.sleep(2)\n",
    "    \n"
   ]
  },
  {
   "cell_type": "code",
   "execution_count": 16,
   "id": "114c1ff6",
   "metadata": {},
   "outputs": [
    {
     "name": "stdout",
     "output_type": "stream",
     "text": [
      "2.013606071472168\n"
     ]
    }
   ],
   "source": [
    "my_function()"
   ]
  },
  {
   "cell_type": "code",
   "execution_count": 17,
   "id": "92c812e8",
   "metadata": {},
   "outputs": [
    {
     "name": "stdout",
     "output_type": "stream",
     "text": [
      "Mean: 42.0\n"
     ]
    }
   ],
   "source": [
    "# Write a function called ‘calculate_mean’ that takes a list of numbers as input and \n",
    "# returns the mean (average) of the numbers. \n",
    "# The function should calculate the mean using the sum of the numbers divided by the total count.\n",
    "def calculate_mean(numbers):\n",
    "    total = sum(numbers)\n",
    "    count = len(numbers)\n",
    "    mean = total / count\n",
    "    return mean\n",
    "\n",
    "data = [120, 15, 20, 25, 30]\n",
    "mean_value = calculate_mean(data)\n",
    "print(\"Mean:\", mean_value)"
   ]
  },
  {
   "cell_type": "code",
   "execution_count": 18,
   "id": "8724d6ef",
   "metadata": {},
   "outputs": [
    {
     "name": "stdout",
     "output_type": "stream",
     "text": [
      "P-value: 0.09434977284243756\n"
     ]
    }
   ],
   "source": [
    "#  Write a function called ‘perform_hypothesis_test’ that takes two lists of numbers as input, \n",
    "# representing two samples. The function should perform a two-sample t-test and \n",
    "# return the p-value. Use the ‘scipy.stats’ module in Python to calculate the t-test and p-value.\n",
    "from scipy import stats\n",
    "\n",
    "def perform_hypothesis_test(sample1, sample2):\n",
    "    t_statistic, p_value = stats.ttest_ind(sample1, sample2)\n",
    "    return p_value\n",
    "\n",
    "sample1 = [5, 10, 15, 20, 25]\n",
    "sample2 = [10, 20, 30, 40, 50]\n",
    "p_value = perform_hypothesis_test(sample1, sample2)\n",
    "print(\"P-value:\", p_value)\n"
   ]
  }
 ],
 "metadata": {
  "kernelspec": {
   "display_name": "Python 3 (ipykernel)",
   "language": "python",
   "name": "python3"
  },
  "language_info": {
   "codemirror_mode": {
    "name": "ipython",
    "version": 3
   },
   "file_extension": ".py",
   "mimetype": "text/x-python",
   "name": "python",
   "nbconvert_exporter": "python",
   "pygments_lexer": "ipython3",
   "version": "3.9.12"
  }
 },
 "nbformat": 4,
 "nbformat_minor": 5
}
